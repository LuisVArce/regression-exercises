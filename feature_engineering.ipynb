{
 "cells": [
  {
   "cell_type": "code",
   "execution_count": 19,
   "id": "c4a53dd1",
   "metadata": {},
   "outputs": [],
   "source": [
    "import pandas as pd\n",
    "import numpy as np\n",
    "import seaborn as sns\n",
    "import pydataset \n",
    "from sklearn.feature_selection import f_regression, SelectKBest, RFE\n",
    "from sklearn.linear_model import LinearRegression\n",
    "from sklearn.model_selection import train_test_split\n",
    "from sklearn.linear_model import LogisticRegression"
   ]
  },
  {
   "cell_type": "code",
   "execution_count": 2,
   "id": "020ae67d",
   "metadata": {},
   "outputs": [
    {
     "data": {
      "text/html": [
       "<div>\n",
       "<style scoped>\n",
       "    .dataframe tbody tr th:only-of-type {\n",
       "        vertical-align: middle;\n",
       "    }\n",
       "\n",
       "    .dataframe tbody tr th {\n",
       "        vertical-align: top;\n",
       "    }\n",
       "\n",
       "    .dataframe thead th {\n",
       "        text-align: right;\n",
       "    }\n",
       "</style>\n",
       "<table border=\"1\" class=\"dataframe\">\n",
       "  <thead>\n",
       "    <tr style=\"text-align: right;\">\n",
       "      <th></th>\n",
       "      <th>total_bill</th>\n",
       "      <th>tip</th>\n",
       "      <th>sex</th>\n",
       "      <th>smoker</th>\n",
       "      <th>day</th>\n",
       "      <th>time</th>\n",
       "      <th>size</th>\n",
       "      <th>price_per_person</th>\n",
       "    </tr>\n",
       "  </thead>\n",
       "  <tbody>\n",
       "    <tr>\n",
       "      <th>1</th>\n",
       "      <td>16.99</td>\n",
       "      <td>1.01</td>\n",
       "      <td>Female</td>\n",
       "      <td>No</td>\n",
       "      <td>Sun</td>\n",
       "      <td>Dinner</td>\n",
       "      <td>2</td>\n",
       "      <td>0.009947</td>\n",
       "    </tr>\n",
       "    <tr>\n",
       "      <th>2</th>\n",
       "      <td>10.34</td>\n",
       "      <td>1.66</td>\n",
       "      <td>Male</td>\n",
       "      <td>No</td>\n",
       "      <td>Sun</td>\n",
       "      <td>Dinner</td>\n",
       "      <td>3</td>\n",
       "      <td>0.006054</td>\n",
       "    </tr>\n",
       "    <tr>\n",
       "      <th>3</th>\n",
       "      <td>21.01</td>\n",
       "      <td>3.50</td>\n",
       "      <td>Male</td>\n",
       "      <td>No</td>\n",
       "      <td>Sun</td>\n",
       "      <td>Dinner</td>\n",
       "      <td>3</td>\n",
       "      <td>0.012301</td>\n",
       "    </tr>\n",
       "    <tr>\n",
       "      <th>4</th>\n",
       "      <td>23.68</td>\n",
       "      <td>3.31</td>\n",
       "      <td>Male</td>\n",
       "      <td>No</td>\n",
       "      <td>Sun</td>\n",
       "      <td>Dinner</td>\n",
       "      <td>2</td>\n",
       "      <td>0.013864</td>\n",
       "    </tr>\n",
       "    <tr>\n",
       "      <th>5</th>\n",
       "      <td>24.59</td>\n",
       "      <td>3.61</td>\n",
       "      <td>Female</td>\n",
       "      <td>No</td>\n",
       "      <td>Sun</td>\n",
       "      <td>Dinner</td>\n",
       "      <td>4</td>\n",
       "      <td>0.014397</td>\n",
       "    </tr>\n",
       "  </tbody>\n",
       "</table>\n",
       "</div>"
      ],
      "text/plain": [
       "   total_bill   tip     sex smoker  day    time  size  price_per_person\n",
       "1       16.99  1.01  Female     No  Sun  Dinner     2          0.009947\n",
       "2       10.34  1.66    Male     No  Sun  Dinner     3          0.006054\n",
       "3       21.01  3.50    Male     No  Sun  Dinner     3          0.012301\n",
       "4       23.68  3.31    Male     No  Sun  Dinner     2          0.013864\n",
       "5       24.59  3.61  Female     No  Sun  Dinner     4          0.014397"
      ]
     },
     "execution_count": 2,
     "metadata": {},
     "output_type": "execute_result"
    }
   ],
   "source": [
    "# 1. Load the Tips dataset\n",
    "# a. Create a price_per_person column\n",
    "tips = pydataset.data('tips')\n",
    "tips['price_per_person'] = tips.total_bill / tips.size\n",
    "tips.head()"
   ]
  },
  {
   "cell_type": "code",
   "execution_count": 5,
   "id": "0a180313",
   "metadata": {},
   "outputs": [],
   "source": [
    "#b. Before using any of the methods discussed in the lesson, \n",
    "#which features do you think would be most important for predicting the tip amount?\n",
    "\n",
    "x = tips[['size', 'total_bill', 'price_per_person']]\n",
    "y = tips.tip"
   ]
  },
  {
   "cell_type": "code",
   "execution_count": 6,
   "id": "5cd121ef",
   "metadata": {},
   "outputs": [],
   "source": [
    "# Calculate tip percentage. DON'T USE FOR PREDICTION, ONLY ANALYSIS\n",
    "tips['tip_percentage'] = tips.tip / tips.total_bill"
   ]
  },
  {
   "cell_type": "code",
   "execution_count": 11,
   "id": "8da7ba9c",
   "metadata": {},
   "outputs": [
    {
     "name": "stdout",
     "output_type": "stream",
     "text": [
      "Top two features according to k-best:\n"
     ]
    },
    {
     "data": {
      "text/plain": [
       "Index(['total_bill', 'price_per_person'], dtype='object')"
      ]
     },
     "execution_count": 11,
     "metadata": {},
     "output_type": "execute_result"
    }
   ],
   "source": [
    "# c. Use select k best to select the top 2 features for predicting tip amount. What are they?\n",
    "\n",
    "kbest = SelectKBest(f_regression, k=2)\n",
    "kbest.fit(x, y)\n",
    "print('Top two features according to k-best:')\n",
    "x.columns[kbest.get_support()]"
   ]
  },
  {
   "cell_type": "code",
   "execution_count": 13,
   "id": "8c984683",
   "metadata": {},
   "outputs": [
    {
     "name": "stdout",
     "output_type": "stream",
     "text": [
      "Top two features according to RFE:\n"
     ]
    },
    {
     "data": {
      "text/plain": [
       "Index(['size', 'total_bill'], dtype='object')"
      ]
     },
     "execution_count": 13,
     "metadata": {},
     "output_type": "execute_result"
    }
   ],
   "source": [
    "# d. Use recursive feature elimination to select the top 2 features for tip amount. What are they?\n",
    "\n",
    "model = LinearRegression()\n",
    "rfe = RFE(model, n_features_to_select=2).fit(x, y)\n",
    "print('Top two features according to RFE:')\n",
    "x.columns[rfe.get_support()]"
   ]
  },
  {
   "cell_type": "code",
   "execution_count": 34,
   "id": "0dac9545",
   "metadata": {},
   "outputs": [
    {
     "name": "stdout",
     "output_type": "stream",
     "text": [
      "Select K_best is working with the best correlation with the target variable (y). RFE is based on the performance of a linear regression model\n"
     ]
    }
   ],
   "source": [
    "# e. Why do you think select k best and recursive feature elimination might give different answers for the top features? \n",
    "# Does this change as you change the number of features your are selecting?\n",
    "\n",
    "print('Select K_best is working with the best correlation with the target variable (y). RFE is based on the performance of a linear regression model')"
   ]
  },
  {
   "cell_type": "markdown",
   "id": "fabbe0d0",
   "metadata": {},
   "source": [
    "#### 2 Write a function named select_kbest that takes in the predictors (X), the target (y), and the number of features to select (k) and returns the names of the top k selected features based on the SelectKBest class. Test your function with the tips dataset. You should see the same results as when you did the process manually."
   ]
  },
  {
   "cell_type": "code",
   "execution_count": 14,
   "id": "f076bd88",
   "metadata": {},
   "outputs": [],
   "source": [
    "def select_kbest(x, y, k):\n",
    "    kbest = SelectKBest(k=k)\n",
    "    kbest.fit(x, y)\n",
    "    mask = kbest.get_support()\n",
    "    return x.columns[mask]"
   ]
  },
  {
   "cell_type": "code",
   "execution_count": 15,
   "id": "f41d31eb",
   "metadata": {},
   "outputs": [
    {
     "data": {
      "text/plain": [
       "Index(['total_bill', 'price_per_person'], dtype='object')"
      ]
     },
     "execution_count": 15,
     "metadata": {},
     "output_type": "execute_result"
    }
   ],
   "source": [
    "select_kbest(tips[['total_bill', 'price_per_person', 'size']], tips.tip, 2)"
   ]
  },
  {
   "cell_type": "markdown",
   "id": "0c5bf359",
   "metadata": {},
   "source": [
    "#### 3. Write a function named rfe that takes in the predictors, the target, and the number of features to select. It should return the top k features based on the RFE class. Test your function with the tips dataset. You should see the same results as when you did the process manually."
   ]
  },
  {
   "cell_type": "code",
   "execution_count": 16,
   "id": "c0ebfe3a",
   "metadata": {},
   "outputs": [],
   "source": [
    "def rfe(X, y, k, model=LinearRegression()):\n",
    "    rfe = RFE(model, n_features_to_select=k)\n",
    "    rfe.fit(X, y)\n",
    "    mask = rfe.get_support()\n",
    "    return X.columns[mask]"
   ]
  },
  {
   "cell_type": "code",
   "execution_count": 17,
   "id": "d52a99da",
   "metadata": {},
   "outputs": [
    {
     "data": {
      "text/plain": [
       "Index(['total_bill', 'size'], dtype='object')"
      ]
     },
     "execution_count": 17,
     "metadata": {},
     "output_type": "execute_result"
    }
   ],
   "source": [
    "rfe(tips[['total_bill', 'price_per_person', 'size']], tips.tip, 2)"
   ]
  },
  {
   "cell_type": "code",
   "execution_count": 20,
   "id": "ea56f882",
   "metadata": {},
   "outputs": [
    {
     "name": "stderr",
     "output_type": "stream",
     "text": [
      "/opt/homebrew/anaconda3/lib/python3.9/site-packages/sklearn/linear_model/_logistic.py:814: ConvergenceWarning: lbfgs failed to converge (status=1):\n",
      "STOP: TOTAL NO. of ITERATIONS REACHED LIMIT.\n",
      "\n",
      "Increase the number of iterations (max_iter) or scale the data as shown in:\n",
      "    https://scikit-learn.org/stable/modules/preprocessing.html\n",
      "Please also refer to the documentation for alternative solver options:\n",
      "    https://scikit-learn.org/stable/modules/linear_model.html#logistic-regression\n",
      "  n_iter_i = _check_optimize_result(\n",
      "/opt/homebrew/anaconda3/lib/python3.9/site-packages/sklearn/linear_model/_logistic.py:814: ConvergenceWarning: lbfgs failed to converge (status=1):\n",
      "STOP: TOTAL NO. of ITERATIONS REACHED LIMIT.\n",
      "\n",
      "Increase the number of iterations (max_iter) or scale the data as shown in:\n",
      "    https://scikit-learn.org/stable/modules/preprocessing.html\n",
      "Please also refer to the documentation for alternative solver options:\n",
      "    https://scikit-learn.org/stable/modules/linear_model.html#logistic-regression\n",
      "  n_iter_i = _check_optimize_result(\n"
     ]
    },
    {
     "data": {
      "text/plain": [
       "Index(['total_bill', 'size'], dtype='object')"
      ]
     },
     "execution_count": 20,
     "metadata": {},
     "output_type": "execute_result"
    }
   ],
   "source": [
    "rfe(tips[['total_bill', 'price_per_person', 'size']], tips.day, 2, model=LogisticRegression())"
   ]
  },
  {
   "cell_type": "markdown",
   "id": "b9b5aeff",
   "metadata": {},
   "source": [
    "#### 4. Load the swiss dataset and use all the other features to predict Fertility. Find the top 3 features using both select k best and recursive feature elimination (use the functions you just built to help you out)."
   ]
  },
  {
   "cell_type": "code",
   "execution_count": 26,
   "id": "7102b9a4",
   "metadata": {},
   "outputs": [
    {
     "data": {
      "text/plain": [
       "Index(['Fertility', 'Agriculture', 'Examination', 'Education', 'Catholic',\n",
       "       'Infant.Mortality'],\n",
       "      dtype='object')"
      ]
     },
     "execution_count": 26,
     "metadata": {},
     "output_type": "execute_result"
    }
   ],
   "source": [
    "swiss = pydataset.data('swiss')\n",
    "swiss.columns"
   ]
  },
  {
   "cell_type": "code",
   "execution_count": 24,
   "id": "4a55a54c",
   "metadata": {},
   "outputs": [],
   "source": [
    "x = swiss.drop(columns='Fertility')\n",
    "y = swiss.Fertility"
   ]
  },
  {
   "cell_type": "code",
   "execution_count": 25,
   "id": "016de9d0",
   "metadata": {},
   "outputs": [
    {
     "data": {
      "text/plain": [
       "Index(['Agriculture', 'Examination', 'Education'], dtype='object')"
      ]
     },
     "execution_count": 25,
     "metadata": {},
     "output_type": "execute_result"
    }
   ],
   "source": [
    "#K best first\n",
    "select_kbest(x,y,3)"
   ]
  },
  {
   "cell_type": "code",
   "execution_count": 27,
   "id": "1e7a2715",
   "metadata": {},
   "outputs": [
    {
     "data": {
      "text/plain": [
       "Index(['Examination', 'Education', 'Infant.Mortality'], dtype='object')"
      ]
     },
     "execution_count": 27,
     "metadata": {},
     "output_type": "execute_result"
    }
   ],
   "source": [
    "# Recursive feature elimination \n",
    "\n",
    "rfe(x,y,3)"
   ]
  },
  {
   "cell_type": "code",
   "execution_count": 28,
   "id": "88dc546e",
   "metadata": {},
   "outputs": [],
   "source": [
    "from sklearn.metrics import mean_squared_error"
   ]
  },
  {
   "cell_type": "code",
   "execution_count": 31,
   "id": "be1ae311",
   "metadata": {},
   "outputs": [
    {
     "data": {
      "text/plain": [
       "67.67925273589965"
      ]
     },
     "execution_count": 31,
     "metadata": {},
     "output_type": "execute_result"
    }
   ],
   "source": [
    "kbest_cols = select_kbest(x, y, 3)\n",
    "x_kbest = x[kbest_cols]\n",
    "\n",
    "model_kbest = LinearRegression().fit(x_kbest, y)\n",
    "\n",
    "mean_squared_error(\n",
    "    swiss.Fertility,\n",
    "    model_kbest.predict(swiss[kbest_cols])\n",
    ")"
   ]
  },
  {
   "cell_type": "code",
   "execution_count": 32,
   "id": "d4f8de12",
   "metadata": {},
   "outputs": [
    {
     "data": {
      "text/plain": [
       "58.17259228615831"
      ]
     },
     "execution_count": 32,
     "metadata": {},
     "output_type": "execute_result"
    }
   ],
   "source": [
    "rfe_cols = rfe(x, y, 3)\n",
    "x_rfe = x[rfe_cols]\n",
    "\n",
    "model_rfe = LinearRegression().fit(x_rfe, y)\n",
    "\n",
    "mean_squared_error(\n",
    "    swiss.Fertility,\n",
    "    model_rfe.predict(swiss[rfe_cols])\n",
    ")"
   ]
  },
  {
   "cell_type": "code",
   "execution_count": null,
   "id": "cae89d3f",
   "metadata": {},
   "outputs": [],
   "source": []
  },
  {
   "cell_type": "code",
   "execution_count": null,
   "id": "88cd7d5a",
   "metadata": {},
   "outputs": [],
   "source": []
  }
 ],
 "metadata": {
  "kernelspec": {
   "display_name": "Python 3 (ipykernel)",
   "language": "python",
   "name": "python3"
  },
  "language_info": {
   "codemirror_mode": {
    "name": "ipython",
    "version": 3
   },
   "file_extension": ".py",
   "mimetype": "text/x-python",
   "name": "python",
   "nbconvert_exporter": "python",
   "pygments_lexer": "ipython3",
   "version": "3.9.12"
  }
 },
 "nbformat": 4,
 "nbformat_minor": 5
}
